{
  "nbformat": 4,
  "nbformat_minor": 0,
  "metadata": {
    "colab": {
      "provenance": []
    },
    "kernelspec": {
      "name": "python3",
      "display_name": "Python 3"
    },
    "language_info": {
      "name": "python"
    }
  },
  "cells": [
    {
      "cell_type": "markdown",
      "source": [
        "Q1: Write a recursive function named printRange that accepts integer\n",
        "parameters x and y and prints the sequential integers between x and y\n",
        "inclusive in a particular format. The first half should be printed\n",
        "with the greater-than character (\">\") separating consecutive values.\n",
        "The second half should be printed with the less-than character (\"<\")\n",
        "separating consecutive values. When there are two values in the middle\n",
        "of the range, those two values should be separated by a pair of dashes\n",
        "(\"--\"), as shown in the second example output below. The following\n",
        "table shows several calls and their expected output:\n",
        "\n",
        "1. printRange(1, 9); Output: 1 > 2 > 3 > 4 > 5 < 6 < 7 < 8 < 9\n",
        "2. printRange(1, 10); Output: 1 > 2 > 3 > 4 > 5 -- 6 < 7 < 8 < 9 < 10\n",
        "3. printRange(23, 29); Output: 23 > 24 > 25 > 26 < 27 < 28 < 29\n",
        "4. printRange(13, 14); Output: 13 -- 14\n",
        "5. printRange(-8, -8); Output: -8\n",
        "\n",
        "Notice that in the first output, 5 is in the middle with the numbers\n",
        "before it separated by greater-than and the numbers after it separated\n",
        "by less-than. In the second output, 26 is in the middle with numbers\n",
        "before it separated by greater-than and numbers after it separated by\n",
        "\n",
        "less-than. The last output has no separators because that range\n",
        "includes one number.\n",
        "Your function should throw an error if x is greater than y.\n",
        "Constraints: Do not declare any global variables. Also, do not use any\n",
        "loops; you must use recursion. You are allowed to define other\n",
        "\"helper\" functions if you like; they are subject to these same\n",
        "constraints."
      ],
      "metadata": {
        "id": "evNJloxWhBUt"
      }
    },
    {
      "cell_type": "code",
      "execution_count": 1,
      "metadata": {
        "id": "2p6nCx8PfL7T",
        "outputId": "e4b7fb7f-7d7c-431e-85ac-7a0d69d755ca",
        "colab": {
          "base_uri": "https://localhost:8080/"
        }
      },
      "outputs": [
        {
          "output_type": "stream",
          "name": "stdout",
          "text": [
            "-10 > -9 > -8 > -7 > -6 > -5 > -4 > -3 -- -2 < -1 < 0 < 1 < 2 < 3 < 4 < 5\n"
          ]
        }
      ],
      "source": [
        "# Answer:\n",
        "def arroHandle(a, b, pos_1, pos_2):\n",
        "    if(a==b):\n",
        "         print(a)\n",
        "         return\n",
        "    if(a < pos_1):\n",
        "        print(a,end=\" > \")\n",
        "    elif(a < pos_2):\n",
        "        print(a,end=\" -- \")\n",
        "    else:\n",
        "        print(a,end=\" < \")\n",
        "\n",
        "    arroHandle(a+1, b, pos_1, pos_2)\n",
        "\n",
        "def printRange(a,b):\n",
        "        if(a>b):\n",
        "           print(\"Invalid input :( \")\n",
        "           return\n",
        "        pos_1 = (a+b)//2\n",
        "        pos_2 = 0\n",
        "        if (a+b)%2 != 0:\n",
        "           pos_2 = pos_1 + 1\n",
        "        arroHandle(a, b, pos_1, pos_2)\n",
        "\n",
        "printRange(-10,5)\n",
        ""
      ]
    },
    {
      "cell_type": "markdown",
      "source": [
        "Q2: Write a recursive function named collapseSequences that accepts a\n",
        "string s and char c as parameters and returns a new string that is the\n",
        "same as s but with any sequences of consecutive occurrences of c\n",
        "compressed into a single occurrence of c. For example, if we collapse\n",
        "sequences of character 'a' in the string \"aabaaccaaaaada\", you get\n",
        "\"abaccada\".\n",
        "Your function is case-sensitive; if the character c is, for example, a\n",
        "lowercase 'f', your function should not collapse sequences of\n",
        "uppercase 'F' characters. In other words, you do not need to write\n",
        "code to handle case issues in this problem.\n",
        "The following table shows several calls and their expected return\n",
        "values:\n",
        "\n",
        "1. collapseSequences(\"aabaaccaaaaaada\", 'a') Output: \"abaccada\"\n",
        "2. collapseSequences(\"mississssipppi\", 's') Output: \"misisipppi\"\n",
        "3. collapseSequences(\"tennessee\", 'x') Output: \"tennessee\"\n",
        "\n",
        "Constraints: Do not declare any global variables. Do not use any\n",
        "loops; you must use recursion. Do not call any of the following string\n",
        "member functions: find, rfind, indexOf, contains, replace, split. (The\n",
        "point of this problem is to solve it recursively; do not use a library\n",
        "function to get around recursion.) Do not use any auxiliary data\n",
        "structures like Vector, Map, Set, array, etc. You can declare as many\n",
        "primitive variables like ints as you like, as well as strings. You are\n",
        "\n",
        "allowed to define other \"helper\" functions if you like; they are\n",
        "subject to these same constraints."
      ],
      "metadata": {
        "id": "qXAOWUFUhrcb"
      }
    },
    {
      "cell_type": "code",
      "source": [
        "# Answer:\n",
        "def collapseSequences(a,b):\n",
        "    if len(a)==0:\n",
        "        return \"\"\n",
        "\n",
        "    if len(a)==1:\n",
        "        return a\n",
        "\n",
        "    if a[0]==b and a[1]==b:\n",
        "        return collapseSequences(a[1:], b)\n",
        "    else:\n",
        "        return a[0] + collapseSequences(a[1:], b)\n",
        "print(collapseSequences(\"aabaaccaaaaaada\", 'a'))\n",
        "print(collapseSequences(\"mississssipppi\", 's'))\n",
        "print(collapseSequences(\"tennessee\", 'x'))"
      ],
      "metadata": {
        "id": "7D-RVjLiiKDT",
        "outputId": "c8af9a72-4bdc-4f00-fd88-9eaa73a9a296",
        "colab": {
          "base_uri": "https://localhost:8080/"
        }
      },
      "execution_count": 2,
      "outputs": [
        {
          "output_type": "stream",
          "name": "stdout",
          "text": [
            "abaccada\n",
            "misisipppi\n",
            "tennessee\n"
          ]
        }
      ]
    },
    {
      "cell_type": "markdown",
      "source": [
        "Q3: Traverse a BST and store in the numOfDescendants variable, the number of descendants that each of the nodes in the BST contains.\n",
        "\n",
        "![Screenshot 2023-08-18 180741.jpg](data:image/jpeg;base64,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)\n",
        "\n",
        "For example in the above figure:\n",
        "1. A has 5 descendants\n",
        "2. B has 3 descendants\n",
        "3. C has 0 descendant\n",
        "4. D has 0 descendant\n",
        "5. E has 1 descendant\n",
        "6. F has 0 descendant"
      ],
      "metadata": {
        "id": "LG77ipDviLjT"
      }
    },
    {
      "cell_type": "code",
      "source": [
        "# Answer:\n",
        "class Node:\n",
        "   def __init__(self,value):\n",
        "        self.data=value\n",
        "        self.left=None\n",
        "        self.right=None\n",
        "class BST:\n",
        "    def __init__(self):\n",
        "        self.root=None\n",
        "    def insert(self,v):\n",
        "        if(self.root==None):\n",
        "          newNode=Node(v)\n",
        "          self.root=newNode\n",
        "          return\n",
        "        cur=self.root\n",
        "        pra=None\n",
        "        while cur !=None:\n",
        "            pra=cur\n",
        "            if(cur.data<v):\n",
        "               cur=cur.right\n",
        "            else:\n",
        "                cur=cur.left\n",
        "        newNode=Node(v)\n",
        "        if(pra.data>v):\n",
        "            pra.left=newNode\n",
        "        else:\n",
        "            pra.right=newNode\n",
        "    def find(self, v):\n",
        "        if(self.root==None):\n",
        "            print(\"BST is empty\")\n",
        "            return\n",
        "        cur=self.root\n",
        "        while cur !=None:\n",
        "            if(cur.data==v):\n",
        "                return True\n",
        "            if(cur.data<v):\n",
        "                cur=cur.right\n",
        "            else:\n",
        "                cur=cur.left\n",
        "        return False\n",
        "def count(cur):\n",
        "    if(cur==None):\n",
        "        return 0\n",
        "    c=0\n",
        "    if(cur.left!=None):\n",
        "       c=c+1\n",
        "    if(cur.right!=None):\n",
        "        c=c+1\n",
        "    return count(cur.left)+count(cur.right) +c\n",
        "\n",
        "def numOfDescendants(root):\n",
        "    a=count(root)\n",
        "    b=count(root.left)\n",
        "    c=count(root.right)\n",
        "    d=count(root.left.left)\n",
        "    e=count(root.left.right)\n",
        "    f=count(root.left.right.left)\n",
        "    print(f\"A has {a} descendants\")\n",
        "    print(f\"B has {b} descendants\")\n",
        "    print(f\"C has {c} descendants\")\n",
        "    print(f\"D has {d} descendants\")\n",
        "    print(f\"E has {e} descendants\")\n",
        "    print(f\"F has {f} descendants\")\n",
        "\n",
        "s=BST()\n",
        "s.insert(7)\n",
        "s.insert(4)\n",
        "s.insert(8)\n",
        "s.insert(6)\n",
        "s.insert(3)\n",
        "s.insert(5)\n",
        "numOfDescendants(s.root)"
      ],
      "metadata": {
        "id": "OaC5oTu1jFkD",
        "outputId": "65315d43-5ae3-438d-da06-6cc59057ff91",
        "colab": {
          "base_uri": "https://localhost:8080/"
        }
      },
      "execution_count": 5,
      "outputs": [
        {
          "output_type": "stream",
          "name": "stdout",
          "text": [
            "A has 5 descendants\n",
            "B has 3 descendants\n",
            "C has 0 descendants\n",
            "D has 0 descendants\n",
            "E has 1 descendants\n",
            "F has 0 descendants\n"
          ]
        }
      ]
    },
    {
      "cell_type": "markdown",
      "source": [
        "Q4: Find the predecessor and successor of 10 in the following BST.\n",
        "\n",
        "![Screenshot 2023-08-18 181205.jpg](data:image/jpeg;base64,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)\n",
        "\n",
        "The predecessor of 10 is 7 and the successor is 13."
      ],
      "metadata": {
        "id": "sa-N2oWFjOtJ"
      }
    },
    {
      "cell_type": "code",
      "source": [
        "# Answer:\n",
        "def countLeftNodes(root):\n",
        "    if root is None:\n",
        "        return 0\n",
        "    c=0\n",
        "    if(root.left!=None):\n",
        "        c=1\n",
        "    return countLeftNodes(root.left) + countLeftNodes(root.right) + c\n",
        "\n",
        "def predecessorAndSuccessor(root,n):\n",
        "    successor=None\n",
        "    predecessor=None\n",
        "    cur=root.left\n",
        "    while cur!=None:\n",
        "      predecessor=cur.data\n",
        "      cur=cur.right\n",
        "    cur=root.right\n",
        "    while cur!=None:\n",
        "        successor=cur.data\n",
        "        cur=cur.left\n",
        "    print(f\"The predecessor of {n} is {predecessor} and the successor is {successor}.\")\n",
        "\n",
        "s=BST()\n",
        "s.insert(10)\n",
        "s.insert(5)\n",
        "s.insert(13)\n",
        "s.insert(3)\n",
        "s.insert(7)\n",
        "s.insert(14)\n",
        "\n",
        "predecessorAndSuccessor(s.root,10)"
      ],
      "metadata": {
        "id": "pGhS3fgFj8rY",
        "outputId": "02304c5f-96d2-4394-bf3b-6312654d8c34",
        "colab": {
          "base_uri": "https://localhost:8080/"
        }
      },
      "execution_count": 8,
      "outputs": [
        {
          "output_type": "stream",
          "name": "stdout",
          "text": [
            "The predecessor of 10 is 7 and the successor is 13.\n"
          ]
        }
      ]
    },
    {
      "cell_type": "markdown",
      "source": [
        "Q5: Write a function named countLeftNodes that accepts a pointer to the root of a binary\n",
        "tree of integers. Your function should return the number of left children in the\n",
        "tree. A left child is a node that appears as the root of the left-hand subtree of\n",
        "another node. For example, if a pointer named root points to the root of the tree\n",
        "below, the call of countLeftNodes(root) should return 3 because the tree has 3 left\n",
        "children (the nodes storing the values 2, 15, and 14):\n",
        "\n",
        "![Screenshot 2023-08-18 181935.jpg](data:image/jpeg;base64,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)\n",
        "\n",
        "Constraints: You must implement your function recursively and without using loops. Do\n",
        "not use any auxiliary data structures to solve this problem (no list, dictionary,\n",
        "stack, queue, string, etc). Your function should not modify the tree's state; the\n",
        "state of the tree should remain constant with respect to your function.\n"
      ],
      "metadata": {
        "id": "BPg84uxCkEjY"
      }
    },
    {
      "cell_type": "code",
      "source": [
        "# Answer:\n",
        "s=BST()\n",
        "s.insert(11)\n",
        "s.insert(2)\n",
        "s.insert(20)\n",
        "s.insert(15)\n",
        "s.insert(28)\n",
        "s.insert(14)\n",
        "\n",
        "def countLeftNodes(root):\n",
        "    cur=root\n",
        "    if(cur==None):\n",
        "        return 0\n",
        "    if(cur!=None):\n",
        "        par=cur\n",
        "        return 1 +countLeftNodes(cur.left)\n",
        "    return 1 +countLeftNodes(par.right.left)\n",
        "\n",
        "print(countLeftNodes(s.root))\n"
      ],
      "metadata": {
        "id": "wwOdUUFpkEFo",
        "outputId": "41605000-126d-49bc-a8c7-a5f82d879a27",
        "colab": {
          "base_uri": "https://localhost:8080/"
        }
      },
      "execution_count": 10,
      "outputs": [
        {
          "output_type": "stream",
          "name": "stdout",
          "text": [
            "2\n"
          ]
        }
      ]
    }
  ]
}